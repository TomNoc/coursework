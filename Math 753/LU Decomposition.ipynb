{
 "cells": [
  {
   "cell_type": "code",
   "execution_count": 34,
   "metadata": {
    "collapsed": false
   },
   "outputs": [
    {
     "name": "stdout",
     "output_type": "stream",
     "text": [
      "[0.12770682230199526 0.7732658291161087 0.7238164867326775 0.10220472532338509\n",
      " 0.32071422301475017 0.8097554612053 0.11573752713926821 0.16563265462555266\n",
      " 0.46375588519961486 0.5094566218797605 0.9244710733415331 0.08025240201708583\n",
      " 0.9082399805515784 0.6835937048434899 0.37702002396777345 0.4230290522921958]\n",
      "[0.12770682230199526 0.7732658291161087 0.7238164867326775 0.10220472532338509\n",
      " 0.32071422301475017 0.8097554612053 0.11573752713926821 0.16563265462555266\n",
      " 0.46375588519961486 0.5094566218797609 0.9244710733415332 0.08025240201708583\n",
      " 0.9082399805515784 0.6835937048434915 0.3770200239677739 0.4230290522921958]\n"
     ]
    }
   ],
   "source": [
    "function LUdecomp(A)\n",
    "    #Check that the matrix is square\n",
    "    if(size(A)[1] != size(A)[2])\n",
    "        println(\"This function only accepts square matricies.\")\n",
    "    else\n",
    "        m = size(A)[1]\n",
    "        X = copy(A)\n",
    "        L = zeros(X)\n",
    "        for j = 1:m\n",
    "            L[j,j] = 1\n",
    "            for i = j+1:m\n",
    "                L[i,j] = X[i,j] / X[j,j]\n",
    "                for k = j:m\n",
    "                    X[i,k] = X[i,k] - L[i,j] * X[j,k]\n",
    "                end\n",
    "            end\n",
    "        end\n",
    "        U = X\n",
    "        return L, U\n",
    "    end\n",
    "end\n",
    "\n",
    "T = rand(4,4)\n",
    "C, D = LUdecomp(T)\n",
    "\n",
    "println(T)\n",
    "println(C*D)"
   ]
  },
  {
   "cell_type": "code",
   "execution_count": 2,
   "metadata": {
    "collapsed": false
   },
   "outputs": [
    {
     "data": {
      "text/plain": [
       "3-element Array{Int64,1}:\n",
       " 1\n",
       " 2\n",
       " 3"
      ]
     },
     "execution_count": 2,
     "metadata": {},
     "output_type": "execute_result"
    }
   ],
   "source": [
    "function ForwardSub(L,b)\n",
    "    #Check matrix is square\n",
    "    if(size(L)[1] != size(L)[2])\n",
    "        println(\"This function only accepts square matricies.\")\n",
    "    #Check the matricies can are compatible\n",
    "    elseif(size(b)[1] != size(L)[1])\n",
    "        println(\"L and b are not compatible\")\n",
    "    else\n",
    "        m = size(b)[1]\n",
    "        y = copy(b)\n",
    "        for i = 2:m\n",
    "            for j = 1:(i-1)\n",
    "                y[i] = y[i] - L[i,j]*y[j]\n",
    "            end\n",
    "        end\n",
    "        return y\n",
    "    end\n",
    "end\n",
    "\n",
    "b = [1; 4; 14]\n",
    "L = [1 0 0; 2 1 0; 3 4 1]\n",
    "#y = [1; 2; 3]\n",
    "\n",
    "y = ForwardSub(L,b)\n",
    "\n",
    "                "
   ]
  },
  {
   "cell_type": "code",
   "execution_count": 26,
   "metadata": {
    "collapsed": false
   },
   "outputs": [
    {
     "data": {
      "text/plain": [
       "BackwardSub (generic function with 1 method)"
      ]
     },
     "execution_count": 26,
     "metadata": {},
     "output_type": "execute_result"
    }
   ],
   "source": [
    "function BackwardSub(U,b)\n",
    "    #Check matrix is square\n",
    "    if(size(L)[1] != size(L)[2])\n",
    "        println(\"This function only accepts square matricies.\")\n",
    "    #Check the matricies can are compatible\n",
    "    elseif(size(b)[1] != size(L)[1])\n",
    "        println(\"L and b are not compatible\")\n",
    "    else\n",
    "        m = size(b)[1]\n",
    "        x = zeros(b)\n",
    "        x[m] = b[m] / U[m,m]\n",
    "        for i = (m-1):-1:1\n",
    "            x[i] = copy(b[i])\n",
    "            for j = m:-1:i+1\n",
    "                x[i] = x[i] - U[i,j]*x[j]\n",
    "            end\n",
    "            x[i] = x[i] / U[i,i]\n",
    "        end\n",
    "        return x\n",
    "    end\n",
    "end\n"
   ]
  },
  {
   "cell_type": "code",
   "execution_count": 27,
   "metadata": {
    "collapsed": false
   },
   "outputs": [
    {
     "name": "stdout",
     "output_type": "stream",
     "text": [
      "[0,0,3]\n",
      "[0,2,3]\n"
     ]
    },
    {
     "data": {
      "text/plain": [
       "3-element Array{Int64,1}:\n",
       " 1\n",
       " 2\n",
       " 3"
      ]
     },
     "execution_count": 27,
     "metadata": {},
     "output_type": "execute_result"
    }
   ],
   "source": [
    "U = [1 2 4; 0 3 5; 0 0 6]\n",
    "b = [17; 21; 18]\n",
    "#x = [1; 2; 3]\n",
    "\n",
    "BackwardSub(U,b)"
   ]
  },
  {
   "cell_type": "code",
   "execution_count": null,
   "metadata": {
    "collapsed": true
   },
   "outputs": [],
   "source": []
  }
 ],
 "metadata": {
  "anaconda-cloud": {},
  "kernelspec": {
   "display_name": "Julia 0.4.6",
   "language": "julia",
   "name": "julia-0.4"
  },
  "language_info": {
   "file_extension": ".jl",
   "mimetype": "application/julia",
   "name": "julia",
   "version": "0.4.6"
  }
 },
 "nbformat": 4,
 "nbformat_minor": 1
}
