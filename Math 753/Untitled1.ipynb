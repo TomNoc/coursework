{
 "cells": [
  {
   "cell_type": "code",
   "execution_count": 2,
   "metadata": {
    "collapsed": false
   },
   "outputs": [
    {
     "ename": "LoadError",
     "evalue": "LoadError: syntax: assignment not allowed inside tuple\nwhile loading In[2], in expression starting on line 3",
     "output_type": "error",
     "traceback": [
      "LoadError: syntax: assignment not allowed inside tuple\nwhile loading In[2], in expression starting on line 3",
      ""
     ]
    }
   ],
   "source": [
    "module bisect\n",
    "\n",
    "export bisectsearch(f,a,b,diagnostics = false)\n",
    "\n",
    "\n",
    "\n",
    "end"
   ]
  },
  {
   "cell_type": "code",
   "execution_count": null,
   "metadata": {
    "collapsed": true
   },
   "outputs": [],
   "source": []
  }
 ],
 "metadata": {
  "anaconda-cloud": {},
  "kernelspec": {
   "display_name": "Julia 0.4.6",
   "language": "julia",
   "name": "julia-0.4"
  },
  "language_info": {
   "file_extension": ".jl",
   "mimetype": "application/julia",
   "name": "julia",
   "version": "0.4.6"
  }
 },
 "nbformat": 4,
 "nbformat_minor": 1
}
