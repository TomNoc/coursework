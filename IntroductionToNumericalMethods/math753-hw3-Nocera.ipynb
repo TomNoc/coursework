{
 "cells": [
  {
   "cell_type": "markdown",
   "metadata": {},
   "source": [
    "# Math 753/853 HW3: LU decomposition, no pivoting"
   ]
  },
  {
   "cell_type": "markdown",
   "metadata": {},
   "source": [
    "**Problem 1.** Write a function named `ludecomp` that computes the LU decomposition of a square matrix $A$ and returns a lower-triangular matrix $L$ and an upper-triangular matrix $U$ such that $A=LU$."
   ]
  },
  {
   "cell_type": "code",
   "execution_count": 3,
   "metadata": {
    "collapsed": false
   },
   "outputs": [
    {
     "data": {
      "text/plain": [
       "ludecomp (generic function with 1 method)"
      ]
     },
     "execution_count": 3,
     "metadata": {},
     "output_type": "execute_result"
    }
   ],
   "source": [
    "function ludecomp(A)\n",
    "    #Check that the matrix is square\n",
    "    if(size(A)[1] != size(A)[2])\n",
    "        println(\"This function only accepts square matricies.\")\n",
    "    else\n",
    "        m = size(A)[1]\n",
    "        X = float(A)\n",
    "        L = zeros(X)\n",
    "        for j = 1:m\n",
    "            L[j,j] = 1\n",
    "            for i = j+1:m\n",
    "                L[i,j] = X[i,j] / X[j,j]\n",
    "                for k = j:m\n",
    "                    X[i,k] = X[i,k] - L[i,j] * X[j,k]\n",
    "                end\n",
    "            end\n",
    "        end\n",
    "        U = X\n",
    "        return L, U\n",
    "    end\n",
    "end"
   ]
  },
  {
   "cell_type": "markdown",
   "metadata": {},
   "source": [
    "Test your LU decomposition function on a random 5 x 5  matrix. Use Julia's `randn` function to generate the random matrix with normally distributed elements."
   ]
  },
  {
   "cell_type": "code",
   "execution_count": 28,
   "metadata": {
    "collapsed": false
   },
   "outputs": [
    {
     "data": {
      "text/plain": [
       "5x5 Array{Float64,2}:\n",
       "  1.6117     -1.14401     1.35342    0.426505    0.306499\n",
       " -0.850703   -0.0215521  -2.96781   -0.0337638   0.027697\n",
       "  0.0131804  -1.37335     0.916767  -0.730697    0.804868\n",
       " -0.0618478   0.451072    0.435702  -1.19332    -0.338691\n",
       " -0.405451   -0.678595    0.975071  -0.772828    2.33843 "
      ]
     },
     "execution_count": 28,
     "metadata": {},
     "output_type": "execute_result"
    }
   ],
   "source": [
    "T = randn(5,5)"
   ]
  },
  {
   "cell_type": "code",
   "execution_count": 29,
   "metadata": {
    "collapsed": false
   },
   "outputs": [
    {
     "data": {
      "text/plain": [
       "(\n",
       "5x5 Array{Float64,2}:\n",
       "  1.0          0.0        0.0       0.0        0.0\n",
       " -0.527828     1.0        0.0       0.0        0.0\n",
       "  0.00817795   2.18102    1.0       0.0        0.0\n",
       " -0.0383742   -0.651066  -0.168284  1.0        0.0\n",
       " -0.251567     1.54525    0.824273  0.0096663  1.0,\n",
       "\n",
       "5x5 Array{Float64,2}:\n",
       " 1.6117       -1.14401    1.35342   0.426505   0.306499\n",
       " 0.0          -0.625392  -2.25344   0.191358   0.189476\n",
       " 0.0           0.0        5.82049  -1.15154    0.38911 \n",
       " 6.93889e-18   0.0        0.0      -1.24615   -0.138086\n",
       " 0.0           0.0        0.0       0.0        1.80335 )"
      ]
     },
     "execution_count": 29,
     "metadata": {},
     "output_type": "execute_result"
    }
   ],
   "source": [
    "C, D = ludecomp(T)"
   ]
  },
  {
   "cell_type": "code",
   "execution_count": 31,
   "metadata": {
    "collapsed": false
   },
   "outputs": [
    {
     "data": {
      "text/plain": [
       "5x5 Array{Float64,2}:\n",
       " 0.0   0.0           0.0           0.0           0.0        \n",
       " 0.0  -1.38778e-17   0.0           6.93889e-18   3.46945e-18\n",
       " 0.0   0.0           7.77156e-16  -1.11022e-16  -1.11022e-16\n",
       " 0.0  -5.55112e-17  -1.11022e-16   0.0           0.0        \n",
       " 0.0   0.0          -2.22045e-16   1.11022e-16   0.0        "
      ]
     },
     "execution_count": 31,
     "metadata": {},
     "output_type": "execute_result"
    }
   ],
   "source": [
    "C*D - T"
   ]
  },
  {
   "cell_type": "markdown",
   "metadata": {},
   "source": [
    "**Problem 2.** Write a `forwardsub` function that does forward substitution forward to solve $Ly=b$ for lower-triangular $L$. "
   ]
  },
  {
   "cell_type": "code",
   "execution_count": 27,
   "metadata": {
    "collapsed": false
   },
   "outputs": [
    {
     "data": {
      "text/plain": [
       "forwardsub (generic function with 1 method)"
      ]
     },
     "execution_count": 27,
     "metadata": {},
     "output_type": "execute_result"
    }
   ],
   "source": [
    "function forwardsub(L,b)\n",
    "    #Check matrix is square\n",
    "    if(size(L)[1] != size(L)[2])\n",
    "        println(\"This function only accepts square matricies.\")\n",
    "    #Check the matricies can are compatible\n",
    "    elseif(size(b)[1] != size(L)[1])\n",
    "        println(\"L and b are not compatible\")\n",
    "    else\n",
    "        m = size(b)[1]\n",
    "        y = copy(b)\n",
    "        for i = 2:m\n",
    "            for j = 1:(i-1)\n",
    "                y[i] = y[i] - L[i,j]*y[j]\n",
    "            end\n",
    "        end\n",
    "        return y\n",
    "    end\n",
    "end"
   ]
  },
  {
   "cell_type": "markdown",
   "metadata": {},
   "source": [
    "Test your `forwardsub` function on a known $Ly=b$ problem. That is, construct a lower-triangular $L$ and a random $y$ vector and multiply them together to get a vector $b$. Then use `forwardsub` to solve $Ly=b$ for $y$ given $L$ and $b$, and verify that you get the $y$ you started with."
   ]
  },
  {
   "cell_type": "code",
   "execution_count": 26,
   "metadata": {
    "collapsed": false
   },
   "outputs": [
    {
     "data": {
      "text/plain": [
       "3-element Array{Int64,1}:\n",
       " 1\n",
       " 2\n",
       " 3"
      ]
     },
     "execution_count": 26,
     "metadata": {},
     "output_type": "execute_result"
    }
   ],
   "source": [
    "b = [1; 4; 14]\n",
    "L = [1 0 0; 2 1 0; 3 4 1]\n",
    "#y = [1; 2; 3]\n",
    "\n",
    "y = forwardsub(L,b)"
   ]
  },
  {
   "cell_type": "markdown",
   "metadata": {},
   "source": [
    "**Problem 4.** Write a `backwardsub` function that does backward substitution forward to solve $Ux=y$ for upper-triangular $U$. Test it in a similar manner as your test for `forwardsub`."
   ]
  },
  {
   "cell_type": "code",
   "execution_count": 25,
   "metadata": {
    "collapsed": false
   },
   "outputs": [
    {
     "data": {
      "text/plain": [
       "backwardsub (generic function with 1 method)"
      ]
     },
     "execution_count": 25,
     "metadata": {},
     "output_type": "execute_result"
    }
   ],
   "source": [
    "function backwardsub(U,y)\n",
    "    #Check matrix is square\n",
    "    if(size(U)[1] != size(U)[2])\n",
    "        println(\"This function only accepts square matricies.\")\n",
    "    #Check the matricies can are compatible\n",
    "    elseif(size(y)[1] != size(U)[1])\n",
    "        println(\"U and y are not compatible\")\n",
    "    else\n",
    "        m = size(y)[1]\n",
    "        x = zeros(y)\n",
    "        x[m] = y[m] / U[m,m]\n",
    "        for i = (m-1):-1:1\n",
    "            x[i] = copy(y[i])\n",
    "            for j = m:-1:i+1\n",
    "                x[i] = x[i] - U[i,j]*x[j]\n",
    "            end\n",
    "            x[i] = x[i] / U[i,i]\n",
    "        end\n",
    "        return x\n",
    "    end\n",
    "end"
   ]
  },
  {
   "cell_type": "markdown",
   "metadata": {},
   "source": [
    "**Problem 5.** Write an `lusolve` function that solves $Ax=b$ for $x$ using `ludecomp`, `forwardsub`, and `backwardsub`. Test it on a problem of your choosing. "
   ]
  },
  {
   "cell_type": "code",
   "execution_count": 24,
   "metadata": {
    "collapsed": false
   },
   "outputs": [
    {
     "data": {
      "text/plain": [
       "3-element Array{Int64,1}:\n",
       " -2\n",
       "  8\n",
       "  0"
      ]
     },
     "execution_count": 24,
     "metadata": {},
     "output_type": "execute_result"
    }
   ],
   "source": [
    "function lusolve(A,b)\n",
    "    L, U = ludecomp(A)\n",
    "    y = forwardsub(L,b)\n",
    "    x = backwardsub(U,y)\n",
    "    return x\n",
    "end\n",
    "\n",
    "A = [1 2 3; 4 5 6; 7 8 12]\n",
    "b = [14; 32; 50]\n",
    "#x = [-2; 8; 0]\n",
    "\n",
    "x = lusolve(A,b)"
   ]
  }
 ],
 "metadata": {
  "anaconda-cloud": {},
  "kernelspec": {
   "display_name": "Julia 0.4.6",
   "language": "julia",
   "name": "julia-0.4"
  },
  "language_info": {
   "file_extension": ".jl",
   "mimetype": "application/julia",
   "name": "julia",
   "version": "0.4.6"
  }
 },
 "nbformat": 4,
 "nbformat_minor": 0
}
