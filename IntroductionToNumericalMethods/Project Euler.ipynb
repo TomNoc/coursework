{
 "cells": [
  {
   "cell_type": "code",
   "execution_count": 6,
   "metadata": {
    "collapsed": false
   },
   "outputs": [
    {
     "data": {
      "text/plain": [
       "233168"
      ]
     },
     "execution_count": 6,
     "metadata": {},
     "output_type": "execute_result"
    }
   ],
   "source": [
    "#Problem 1\n",
    "function multiple35(n)\n",
    "    #sum all digits less than n that are divisible by 3 or 5\n",
    "    sum = 0\n",
    "    for i=1:n-1\n",
    "        if(i%3 == 0 || i%5 ==0)\n",
    "            sum = sum + i\n",
    "        end\n",
    "    end\n",
    "    return sum\n",
    "end\n",
    "\n",
    "multiple35(10) #check it is 23\n",
    "multiple35(1000)"
   ]
  },
  {
   "cell_type": "code",
   "execution_count": 13,
   "metadata": {
    "collapsed": false
   },
   "outputs": [
    {
     "data": {
      "text/plain": [
       "4613732"
      ]
     },
     "execution_count": 13,
     "metadata": {},
     "output_type": "execute_result"
    }
   ],
   "source": [
    "#Problem 2\n",
    "#find sum of even fibonacci numbers that does not exceed 4 million\n",
    "f = [1; 2]\n",
    "sum = 2\n",
    "i = 2\n",
    "while f[i] <= 4000000\n",
    "    push!(f,f[i]+f[i-1])\n",
    "    if f[i+1]%2 == 0\n",
    "        sum = sum+f[i+1]\n",
    "    end\n",
    "    i = i+1\n",
    "end\n",
    "sum"
   ]
  },
  {
   "cell_type": "code",
   "execution_count": 2,
   "metadata": {
    "collapsed": false
   },
   "outputs": [
    {
     "data": {
      "text/plain": [
       "5-element Array{Any,1}:\n",
       "    1.0\n",
       "   71.0\n",
       "  839.0\n",
       " 1471.0\n",
       " 6857.0"
      ]
     },
     "execution_count": 2,
     "metadata": {},
     "output_type": "execute_result"
    }
   ],
   "source": [
    "#Problem 3\n",
    "function primelist(n)\n",
    "    primes = [2]\n",
    "    count = 0\n",
    "    for i = 3:n\n",
    "        for j = 1:length(primes)\n",
    "            if i%primes[j] == 0\n",
    "                break;\n",
    "            else\n",
    "                count = count+1\n",
    "            end\n",
    "        end\n",
    "        if count == length(primes)\n",
    "            push!(primes,i)\n",
    "        end\n",
    "        count = 0\n",
    "    end\n",
    "    return primes\n",
    "end\n",
    "#making primelist is much slower than going through i to sqrt(n)\n",
    "function isprime(n)\n",
    "    prime = primelist(ceil(sqrt(n)))\n",
    "    for i = 1:length(prime)\n",
    "        if isinteger(n/prime[i])\n",
    "            return false\n",
    "        end\n",
    "    end\n",
    "    return true\n",
    "end\n",
    "\n",
    "function primefactor(N)\n",
    "    n = ceil(sqrt(N))\n",
    "    #primes = primelist(n)\n",
    "    primefact = []\n",
    "    for i = 1:n\n",
    "        if isinteger(N/i) && isprime(i)\n",
    "            push!(primefact,i)\n",
    "        end\n",
    "    end\n",
    "    return primefact\n",
    "end\n",
    "\n",
    "primefactor(600851475143)"
   ]
  },
  {
   "cell_type": "code",
   "execution_count": null,
   "metadata": {
    "collapsed": true
   },
   "outputs": [],
   "source": []
  }
 ],
 "metadata": {
  "anaconda-cloud": {},
  "kernelspec": {
   "display_name": "Julia 0.4.6",
   "language": "julia",
   "name": "julia-0.4"
  },
  "language_info": {
   "file_extension": ".jl",
   "mimetype": "application/julia",
   "name": "julia",
   "version": "0.4.6"
  }
 },
 "nbformat": 4,
 "nbformat_minor": 1
}
