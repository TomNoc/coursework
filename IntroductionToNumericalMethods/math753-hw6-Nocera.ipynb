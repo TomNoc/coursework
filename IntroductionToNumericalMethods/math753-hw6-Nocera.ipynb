{
 "cells": [
  {
   "cell_type": "markdown",
   "metadata": {},
   "source": [
    "# Math 753/853 HW6 Quadrature (ungraded, don't turn in)\n",
    "\n"
   ]
  },
  {
   "cell_type": "markdown",
   "metadata": {},
   "source": [
    "## Problem 1\n",
    "\n",
    "**(a)** Write a `trapezoid(y,h)` function that approximate definite integrals using the Trapezoid Rule\n",
    "\n",
    "\\begin{equation*}\n",
    "\\int_a^b f(x) dx = h \\left(\\frac{1}{2} y_0  + \\sum_{i=1}^{N-1} y_i + \\frac{1}{2} y_N \\right) + O(h^2) \n",
    "\\end{equation*}\n",
    "\n",
    "In this formula, the $y_i$ are values $y_i = f(x_i)$ on $N+1$ evenly spaced gridpoints between $a$ and $b$, where $x_i = a + i h$, and $h = (b-a)/N$.\n",
    "\n",
    "Note that the natural mathematical notation for the Trapezoid rule uses 0-based indexing, but Julia uses 1-based indexing for its vectors. You will have to negotiate this difference when writing your code (i.e. adjust the formula to use 1-based indices)."
   ]
  },
  {
   "cell_type": "code",
   "execution_count": 39,
   "metadata": {
    "collapsed": false
   },
   "outputs": [
    {
     "data": {
      "text/plain": [
       "trapezoid (generic function with 2 methods)"
      ]
     },
     "execution_count": 39,
     "metadata": {},
     "output_type": "execute_result"
    }
   ],
   "source": [
    "function trapezoid(y,h)\n",
    "    N = length(y) - 1\n",
    "    sum = .5* y[1] + .5*y[N+1]\n",
    "    for i = 2:N\n",
    "        sum = sum + y[i]\n",
    "    end\n",
    "    int = h*sum\n",
    "    return int\n",
    "end"
   ]
  },
  {
   "cell_type": "markdown",
   "metadata": {},
   "source": [
    "**(b)** Test your `trapezoid(y,h)` function on the integral $\\int_0^1 x \\, dx = 1/2$. To do this, \n",
    "choose a smallish value of $N$ (perhaps 10), construct a vector $y$ of length $N+1$, fill it with evelny spaced values of $y=f(x)$ between 0 and 1, and then run `trapezoid(y,h)` using the appropriate value of $h$. If you don't get 0.5 as an answer, something's wrong!"
   ]
  },
  {
   "cell_type": "code",
   "execution_count": 40,
   "metadata": {
    "collapsed": false
   },
   "outputs": [
    {
     "data": {
      "text/plain": [
       "0.5"
      ]
     },
     "execution_count": 40,
     "metadata": {},
     "output_type": "execute_result"
    }
   ],
   "source": [
    "n = 10\n",
    "h = 1/n\n",
    "t = []\n",
    "for i =0:h:1\n",
    "    push!(t,i)\n",
    "end\n",
    "trapezoid(t,h)"
   ]
  },
  {
   "cell_type": "markdown",
   "metadata": {},
   "source": [
    "## Problem 2\n",
    "\n",
    "Write a *wrapper function* `trapezoid(f, a, b, N)` that takes a function $f(x)$, and interval\n",
    "$a,b$ and a discretization number $N$, uses those arguments to construct a vector $y$ and a gridspacing $h$, and then calls `trapezoid(y,h)`.  Test it on $f(x) = x, a=0, b=1, N=10$."
   ]
  },
  {
   "cell_type": "code",
   "execution_count": 41,
   "metadata": {
    "collapsed": false
   },
   "outputs": [
    {
     "data": {
      "text/plain": [
       "trapezoid (generic function with 2 methods)"
      ]
     },
     "execution_count": 41,
     "metadata": {},
     "output_type": "execute_result"
    }
   ],
   "source": [
    "function trapezoid(f, a, b, N)\n",
    "    h = (b - a)/N\n",
    "    y = []\n",
    "    for i = a:h:b\n",
    "        push!(y,f(i))\n",
    "    end\n",
    "    sum = .5* y[1] + .5*y[N+1]\n",
    "    for i = 2:N\n",
    "        sum = sum + y[i]\n",
    "    end\n",
    "    int = h*sum\n",
    "    return int\n",
    "end"
   ]
  },
  {
   "cell_type": "markdown",
   "metadata": {},
   "source": [
    "## Problem 3\n",
    "\n",
    "Use the `trapezoid(f,a,b,N)` function to approximate the integral\n",
    "\n",
    "\\begin{equation*} \n",
    "\\int_0^1 x\\, e^{2x} \\, dx\n",
    "\\end{equation*}\n",
    "\n",
    "using $N=16$ and $N=32$. The exact value of the integral is $(e^2+1)/4$. What is the error in both cases? Does the error scale as expected, $O(h^2)$?\n"
   ]
  },
  {
   "cell_type": "code",
   "execution_count": 43,
   "metadata": {
    "collapsed": false
   },
   "outputs": [
    {
     "name": "stdout",
     "output_type": "stream",
     "text": [
      "2.1041515028916353\n",
      "2.098986433472935\n",
      "2.0972640247326626\n"
     ]
    }
   ],
   "source": [
    "f(x) = x*exp(2*x)\n",
    "b = 1\n",
    "a = 0\n",
    "println(trapezoid(f,a,b,16))\n",
    "println(trapezoid(f,a,b,32))\n",
    "println((e^2 + 1)/4)\n",
    "#The error does scale as expected"
   ]
  },
  {
   "cell_type": "markdown",
   "metadata": {},
   "source": [
    "## Problem 4\n",
    "\n",
    "**(a)** Write a `simpson(y,h)` function that approximates definite integrals using Simpson's rule\n",
    "\n",
    "\\begin{equation*}\n",
    "\\int_a^b f(x) \\, dx = \\frac{h}{3} \\left(y_0  + 4 \\sum_{odd \\, i=1}^{N-1} y_i + 2 \\sum_{even \\, i=2}^{N-2} y_i + y_N\\right) + O(h^4) \n",
    "\\end{equation*}\n",
    "\n",
    "As in the Trapezoid Rule, the $y_i$ are values $y_i = f(x_i)$ on $N+1$ evenly spaced gridpoints between $a$ and $b$, where $x_i = a + i h$, and $h = (b-a)/N$. \n",
    "\n",
    "Remember that for Simpson's Rule $N$ must be odd! And be careful, as you implement this formula written with 0-based indices using 1-based Julia indices, even and odd switch places!"
   ]
  },
  {
   "cell_type": "code",
   "execution_count": 74,
   "metadata": {
    "collapsed": false
   },
   "outputs": [
    {
     "data": {
      "text/plain": [
       "simpson (generic function with 2 methods)"
      ]
     },
     "execution_count": 74,
     "metadata": {},
     "output_type": "execute_result"
    }
   ],
   "source": [
    "function simpson(y,h)\n",
    "    N = length(y) - 1\n",
    "    sum = y[1] + y[N+1]\n",
    "    for i = 2:N\n",
    "        if(i%2 == 0)\n",
    "            sum = sum + 2*y[i]\n",
    "        else\n",
    "            sum = sum + 4*y[i]\n",
    "        end\n",
    "    end\n",
    "    int = (h*sum)/3\n",
    "    return int\n",
    "end"
   ]
  },
  {
   "cell_type": "markdown",
   "metadata": {},
   "source": [
    "**(b)** Test your `simpson(y,h)` function on the definite integral $\\int_0^1 x^2 \\, dx = 1/3$ using a smallish value of $N$."
   ]
  },
  {
   "cell_type": "code",
   "execution_count": 89,
   "metadata": {
    "collapsed": false
   },
   "outputs": [
    {
     "data": {
      "text/plain": [
       "0.3"
      ]
     },
     "execution_count": 89,
     "metadata": {},
     "output_type": "execute_result"
    }
   ],
   "source": [
    "f(x) = x.^2\n",
    "N = 10\n",
    "h = 1/N\n",
    "p = linspace(0,1,N)\n",
    "t = f(p)\n",
    "simpson(t,h)"
   ]
  },
  {
   "cell_type": "markdown",
   "metadata": {},
   "source": [
    "## Problem 5\n",
    "\n",
    "As in problem 2, write a wrapper function `simpson(f, a, b, N)` that translates its arguments \n",
    "into appropriate values `y,h` and then calls `simpson(y,h)`. Make sure it gets the right answer to $\\int_0^1 x^2 \\, dx = 1/3$."
   ]
  },
  {
   "cell_type": "code",
   "execution_count": 56,
   "metadata": {
    "collapsed": false
   },
   "outputs": [
    {
     "data": {
      "text/plain": [
       "0.3033333333333334"
      ]
     },
     "execution_count": 56,
     "metadata": {},
     "output_type": "execute_result"
    }
   ],
   "source": [
    "function simpson(f, a, b, N)\n",
    "    h = (b - a)/N\n",
    "    y = []\n",
    "    for i = a:h:b\n",
    "        push!(y,f(i))\n",
    "    end\n",
    "    sum = y[1] + y[N+1]\n",
    "    for i = 2:N\n",
    "        if(i%2 == 0)\n",
    "            sum = sum + 2*y[i]\n",
    "            elseif(i%2 == 1)\n",
    "            sum = sum + 4*y[i]\n",
    "        end\n",
    "    end\n",
    "    int = h*sum/3\n",
    "    return int\n",
    "end\n",
    "\n",
    "f(x) = x.^2\n",
    "simpson(f,0,1,10)"
   ]
  },
  {
   "cell_type": "markdown",
   "metadata": {},
   "source": [
    "## Problem 6\n",
    "\n",
    "Use the `simpson(f,a,b,N)` function to approximate the integral\n",
    "\n",
    "\\begin{equation*} \n",
    "\\int_0^1 x\\, e^{2x} \\, dx\n",
    "\\end{equation*}\n",
    "\n",
    "using $N=16$ and $N=32$. The exact value of the integral is $(e^2+1)/4$. What is the error in both cases? How do those errors compare to those of the Trapezoid Rule? Does the error scale as expected, $O(h^4)$? \n"
   ]
  },
  {
   "cell_type": "code",
   "execution_count": 52,
   "metadata": {
    "collapsed": false
   },
   "outputs": [
    {
     "name": "stdout",
     "output_type": "stream",
     "text": [
      "1.9570888314232773\n",
      "2.0237387889153076\n",
      "2.0972640247326626\n"
     ]
    }
   ],
   "source": [
    "f(x) = x.*exp(2*x)\n",
    "println(simpson(f,0,1,16))\n",
    "println(simpson(f,0,1,32))\n",
    "println((e^2+1)/4)"
   ]
  },
  {
   "cell_type": "markdown",
   "metadata": {
    "collapsed": false
   },
   "source": [
    "## Problem 7\n",
    "\n",
    "Make a log-log plot of error versus $N$ for the integral of problem 6, for $N=2^n+1$ for $n=2$ through $10$. Show the error for Trapezoid in red and the error for Simpson in blue. Can you relate the slope of the log-log error lines to the expected errors $O(h^2)$ and $O(h^4)$?"
   ]
  },
  {
   "cell_type": "code",
   "execution_count": 54,
   "metadata": {
    "collapsed": false
   },
   "outputs": [
    {
     "data": {
      "text/plain": [
       "false"
      ]
     },
     "execution_count": 54,
     "metadata": {},
     "output_type": "execute_result"
    }
   ],
   "source": []
  }
 ],
 "metadata": {
  "anaconda-cloud": {},
  "kernelspec": {
   "display_name": "Julia 0.4.6",
   "language": "julia",
   "name": "julia-0.4"
  },
  "language_info": {
   "file_extension": ".jl",
   "mimetype": "application/julia",
   "name": "julia",
   "version": "0.4.6"
  }
 },
 "nbformat": 4,
 "nbformat_minor": 0
}
